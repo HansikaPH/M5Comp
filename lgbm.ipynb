{
 "cells": [
  {
   "cell_type": "code",
   "execution_count": 23,
   "metadata": {},
   "outputs": [],
   "source": [
    "import lightgbm as lgbm\n",
    "import numpy as np\n",
    "import pandas as pd\n",
    "\n",
    "# TODO: correct data types, more variables, see about scaling, alphas , magic multipliers\n",
    "\n",
    "# define data types for the sales data\n",
    "numCols = [f\"d_{day}\" for day in range(1, 1914)]\n",
    "\n",
    "# Define all categorical columns\n",
    "catCols = ['id', 'item_id', 'dept_id','store_id', 'cat_id', 'state_id']\n",
    "\n",
    "# Define the correct data types for \"sales_train_validation.csv\"\n",
    "dtype = {numCol: \"float32\" for numCol in numCols}\n",
    "dtype.update({catCol: \"category\" for catCol in catCols if catCol != \"id\"})\n",
    "\n",
    "# read the sales data\n",
    "sales_data = pd.read_csv(\"/media/hhew0002/f0df6edb-45fe-4416-8076-34757a0abceb/hhew0002/Academic/Competitions/M5 Competition/data/sales_train_validation.csv\", usecols=catCols + numCols, dtype=dtype)\n",
    "sales_data = sales_data.drop(columns=[\"item_id\", \"dept_id\", \"store_id\"])"
   ]
  },
  {
   "cell_type": "code",
   "execution_count": 8,
   "metadata": {},
   "outputs": [],
   "source": [
    "# read the calendar data\n",
    "calendarDTypes = {\"event_name_1\": \"category\",\n",
    "                  \"event_name_2\": \"category\",\n",
    "                  \"event_type_1\": \"category\",\n",
    "                  \"event_type_2\": \"category\",\n",
    "                  \"weekday\": \"category\",\n",
    "                  'wm_yr_wk': 'int16',\n",
    "                  \"wday\": \"int16\",\n",
    "                  \"month\": \"int16\",\n",
    "                  \"year\": \"int16\",\n",
    "                  \"snap_CA\": \"float32\",\n",
    "                  'snap_TX': 'float32',\n",
    "                  'snap_WI': 'float32' }\n",
    "calendar_data = pd.read_csv(\"/media/hhew0002/f0df6edb-45fe-4416-8076-34757a0abceb/hhew0002/Academic/Competitions/M5 Competition/data/calendar.csv\", dtype=calendarDTypes)\n",
    "\n",
    "# remove the last 28 points from the calendar data\n",
    "horizon = 28\n",
    "calendar_data = calendar_data.iloc[:-horizon, :]\n",
    "\n",
    "\n",
    "for col, colDType in calendarDTypes.items():\n",
    "    if colDType == \"category\":\n",
    "        calendar_data[col] = calendar_data[col].cat.codes.astype(\"int16\")\n",
    "        calendar_data[col] -= calendar_data[col].min()\n",
    "\n",
    "# define function for adding holiday column\n",
    "def add_holiday_value(row):\n",
    "    if row['event_name_1'] == 0:\n",
    "        return 0\n",
    "    else:\n",
    "        return 1\n",
    "\n",
    "calendar_data['holiday'] = calendar_data.apply (lambda row: add_holiday_value(row), axis=1)\n",
    "calendar_data = calendar_data.drop(columns=[\"date\", \"wm_yr_wk\", \"year\"])\n",
    "calendar_data_train = calendar_data.iloc[:-horizon, :]\n",
    "calendar_data_test = calendar_data.iloc[-horizon:, :]"
   ]
  },
  {
   "cell_type": "code",
   "execution_count": 24,
   "outputs": [],
   "source": [
    "# embed the sales data to have a lag length of 10\n",
    "data = sales_data.iloc[0:10, :]\n",
    "data = pd.melt(data, id_vars=['id', 'cat_id', 'state_id'], var_name=\"d\")\n",
    "\n",
    "for lags in range(1,11):\n",
    "    data['lag' + str(lags)] = data[[\"id\",\"value\"]].groupby(\"id\")[\"value\"].shift(lags)"
   ],
   "metadata": {
    "collapsed": false,
    "pycharm": {
     "name": "#%%\n"
    }
   }
  },
  {
   "cell_type": "code",
   "execution_count": 25,
   "outputs": [
    {
     "name": "stdout",
     "output_type": "stream",
     "text": [
      "<class 'pandas.core.frame.DataFrame'>\n",
      "Int64Index: 19030 entries, 100 to 19129\n",
      "Data columns (total 24 columns):\n",
      " #   Column        Non-Null Count  Dtype   \n",
      "---  ------        --------------  -----   \n",
      " 0   cat_id        19030 non-null  category\n",
      " 1   state_id      19030 non-null  category\n",
      " 2   value         19030 non-null  float32 \n",
      " 3   lag1          19030 non-null  float32 \n",
      " 4   lag2          19030 non-null  float32 \n",
      " 5   lag3          19030 non-null  float32 \n",
      " 6   lag4          19030 non-null  float32 \n",
      " 7   lag5          19030 non-null  float32 \n",
      " 8   lag6          19030 non-null  float32 \n",
      " 9   lag7          19030 non-null  float32 \n",
      " 10  lag8          19030 non-null  float32 \n",
      " 11  lag9          19030 non-null  float32 \n",
      " 12  lag10         19030 non-null  float32 \n",
      " 13  weekday       19030 non-null  int16   \n",
      " 14  wday          19030 non-null  int16   \n",
      " 15  month         19030 non-null  int16   \n",
      " 16  event_name_1  19030 non-null  int16   \n",
      " 17  event_type_1  19030 non-null  int16   \n",
      " 18  event_name_2  19030 non-null  int16   \n",
      " 19  event_type_2  19030 non-null  int16   \n",
      " 20  snap_CA       19030 non-null  float32 \n",
      " 21  snap_TX       19030 non-null  float32 \n",
      " 22  snap_WI       19030 non-null  float32 \n",
      " 23  holiday       19030 non-null  int64   \n",
      "dtypes: category(2), float32(14), int16(7), int64(1)\n",
      "memory usage: 1.6 MB\n"
     ]
    }
   ],
   "source": [
    "# merge the calendar data into the sales data\n",
    "full_training_data = data.merge(calendar_data_train, on=\"d\", copy=False)\n",
    "full_training_data = full_training_data.dropna()\n",
    "full_training_data = full_training_data.drop(columns=[\"d\", \"id\"])\n",
    "full_training_data.info()"
   ],
   "metadata": {
    "collapsed": false,
    "pycharm": {
     "name": "#%%\n"
    }
   }
  },
  {
   "cell_type": "code",
   "execution_count": 26,
   "outputs": [],
   "source": [
    "# create the training x and y data\n",
    "full_training_data_x = full_training_data.drop(columns=[\"value\"])\n",
    "full_training_data_y = full_training_data.value\n",
    "\n",
    "# seperate the training and validation data\n",
    "np.random.seed(777)\n",
    "\n",
    "# Define categorical features\n",
    "cat_features = ['cat_id', 'state_id', 'holiday', 'weekday', 'wday', 'month', 'event_name_1', 'event_name_2', 'event_type_1', 'event_type_2', 'snap_CA', 'snap_TX', 'snap_WI']\n",
    "\n",
    "# validation data\n",
    "validation_indices = np.random.choice(full_training_data_x.index.values, 100, replace = False)\n",
    "training_indices = np.setdiff1d(full_training_data_x.index.values, validation_indices)\n",
    "\n",
    "training_data = lgbm.Dataset(full_training_data_x.loc[training_indices], label = full_training_data_y.loc[training_indices],\n",
    "                        categorical_feature = cat_features, free_raw_data = False)\n",
    "valid_data = lgbm.Dataset(full_training_data_x.loc[validation_indices], label = full_training_data_y.loc[validation_indices],\n",
    "                        categorical_feature = cat_features, free_raw_data = False)"
   ],
   "metadata": {
    "collapsed": false,
    "pycharm": {
     "name": "#%%\n"
    }
   }
  },
  {
   "cell_type": "code",
   "execution_count": 27,
   "outputs": [
    {
     "name": "stderr",
     "output_type": "stream",
     "text": [
      "/home/hhew0002/anaconda3/envs/trmf/lib/python3.7/site-packages/lightgbm/engine.py:148: UserWarning: Found `num_iterations` in params. Will use it instead of argument\n",
      "  warnings.warn(\"Found `{}` in params. Will use it instead of argument\".format(alias))\n",
      "/home/hhew0002/anaconda3/envs/trmf/lib/python3.7/site-packages/lightgbm/basic.py:1291: UserWarning: Using categorical_feature in Dataset.\n",
      "  warnings.warn('Using categorical_feature in Dataset.')\n"
     ]
    },
    {
     "name": "stdout",
     "output_type": "stream",
     "text": [
      "[20]\tvalid_0's rmse: 2.15302\n",
      "[40]\tvalid_0's rmse: 2.04992\n",
      "[60]\tvalid_0's rmse: 2.08962\n",
      "[80]\tvalid_0's rmse: 2.12971\n",
      "[100]\tvalid_0's rmse: 2.19212\n",
      "[120]\tvalid_0's rmse: 2.20748\n",
      "[140]\tvalid_0's rmse: 2.17926\n",
      "[160]\tvalid_0's rmse: 2.19511\n",
      "[180]\tvalid_0's rmse: 2.19599\n",
      "[200]\tvalid_0's rmse: 2.1883\n",
      "[220]\tvalid_0's rmse: 2.18099\n",
      "[240]\tvalid_0's rmse: 2.19105\n",
      "[260]\tvalid_0's rmse: 2.20047\n",
      "[280]\tvalid_0's rmse: 2.20931\n",
      "[300]\tvalid_0's rmse: 2.21483\n",
      "[320]\tvalid_0's rmse: 2.22799\n",
      "[340]\tvalid_0's rmse: 2.24055\n",
      "[360]\tvalid_0's rmse: 2.23547\n",
      "[380]\tvalid_0's rmse: 2.23116\n",
      "[400]\tvalid_0's rmse: 2.23014\n",
      "[420]\tvalid_0's rmse: 2.24022\n",
      "[440]\tvalid_0's rmse: 2.24383\n",
      "[460]\tvalid_0's rmse: 2.21848\n",
      "[480]\tvalid_0's rmse: 2.19552\n",
      "[500]\tvalid_0's rmse: 2.20172\n",
      "[520]\tvalid_0's rmse: 2.20291\n",
      "[540]\tvalid_0's rmse: 2.20052\n",
      "[560]\tvalid_0's rmse: 2.19437\n",
      "[580]\tvalid_0's rmse: 2.18941\n",
      "[600]\tvalid_0's rmse: 2.17736\n",
      "[620]\tvalid_0's rmse: 2.17217\n",
      "[640]\tvalid_0's rmse: 2.1676\n",
      "[660]\tvalid_0's rmse: 2.16736\n",
      "[680]\tvalid_0's rmse: 2.1597\n",
      "[700]\tvalid_0's rmse: 2.15178\n",
      "[720]\tvalid_0's rmse: 2.1531\n",
      "[740]\tvalid_0's rmse: 2.15166\n",
      "[760]\tvalid_0's rmse: 2.14855\n",
      "[780]\tvalid_0's rmse: 2.14546\n",
      "[800]\tvalid_0's rmse: 2.14374\n",
      "[820]\tvalid_0's rmse: 2.14526\n",
      "[840]\tvalid_0's rmse: 2.1442\n",
      "[860]\tvalid_0's rmse: 2.14284\n",
      "[880]\tvalid_0's rmse: 2.13782\n",
      "[900]\tvalid_0's rmse: 2.13242\n",
      "[920]\tvalid_0's rmse: 2.13183\n",
      "[940]\tvalid_0's rmse: 2.12967\n",
      "[960]\tvalid_0's rmse: 2.13307\n",
      "[980]\tvalid_0's rmse: 2.14038\n",
      "[1000]\tvalid_0's rmse: 2.14536\n",
      "[1020]\tvalid_0's rmse: 2.14985\n",
      "[1040]\tvalid_0's rmse: 2.15039\n",
      "[1060]\tvalid_0's rmse: 2.14046\n",
      "[1080]\tvalid_0's rmse: 2.13508\n",
      "[1100]\tvalid_0's rmse: 2.13507\n",
      "[1120]\tvalid_0's rmse: 2.14092\n",
      "[1140]\tvalid_0's rmse: 2.13687\n",
      "[1160]\tvalid_0's rmse: 2.13672\n",
      "[1180]\tvalid_0's rmse: 2.13902\n",
      "[1200]\tvalid_0's rmse: 2.14158\n"
     ]
    },
    {
     "data": {
      "text/plain": "<lightgbm.basic.Booster at 0x7f38f03696d0>"
     },
     "execution_count": 27,
     "metadata": {},
     "output_type": "execute_result"
    }
   ],
   "source": [
    "#build the lightgbm model\n",
    "params = {\n",
    "          \"objective\" : \"poisson\",\n",
    "          \"metric\" :\"rmse\",\n",
    "          \"force_row_wise\" : True,\n",
    "          \"learning_rate\" : 0.075,\n",
    "          \"sub_row\" : 0.75,\n",
    "          \"bagging_freq\" : 1,\n",
    "          \"lambda_l2\" : 0.1,\n",
    "          \"metric\": [\"rmse\"],\n",
    "          'verbosity': 1,\n",
    "          'num_iterations' : 1200,\n",
    "          'num_leaves': 128,\n",
    "          \"min_data_in_leaf\": 100,\n",
    "         }\n",
    "\n",
    "# Train LightGBM model\n",
    "m_lgb = lgbm.train(params, training_data, valid_sets = [valid_data], verbose_eval = 20)\n",
    "\n",
    "# save the model if needed\n",
    "m_lgb.save_model(\"model.lgb\")"
   ],
   "metadata": {
    "collapsed": false,
    "pycharm": {
     "name": "#%%\n"
    }
   }
  },
  {
   "cell_type": "code",
   "execution_count": 58,
   "outputs": [],
   "source": [
    "# create the initial testing data\n",
    "lag_size = 10\n",
    "testing_data = sales_data.iloc[0:10, -lag_size:]\n",
    "testing_data['cat_id'] = sales_data.cat_id.iloc[0:10]\n",
    "testing_data['state_id'] = sales_data.state_id.iloc[0:10]\n",
    "testing_data['id'] = sales_data.id.iloc[0:10]\n",
    "\n",
    "for day in range(1914, 1942):\n",
    "    testing_data[f\"d_{day}\"] = np.nan\n",
    "\n",
    "testing_data = pd.melt(testing_data, id_vars=['id', 'cat_id', 'state_id'], var_name=\"d\")\n",
    "\n",
    "# embed the sales data to have a lag length of 10\n",
    "for lags in range(1,11):\n",
    "    testing_data['lag' + str(lags)] = testing_data[[\"id\",\"value\"]].groupby(\"id\")[\"value\"].shift(lags)\n",
    "\n",
    "# merge the calendar data into the sales data\n",
    "testing_data = testing_data.merge(calendar_data, on=\"d\", copy=False)"
   ],
   "metadata": {
    "collapsed": false,
    "pycharm": {
     "name": "#%%\n"
    }
   }
  },
  {
   "cell_type": "code",
   "execution_count": 63,
   "outputs": [
    {
     "name": "stdout",
     "output_type": "stream",
     "text": [
      "0 1.028 1.0\n"
     ]
    }
   ],
   "source": [
    "alphas = [1.028]\n",
    "weights = [1/len(alphas)] * len(alphas)\n",
    "\n",
    "# perform the recursive the forecasting\n",
    "# current\n",
    "for icount, (alpha, weight) in enumerate(zip(alphas, weights)):\n",
    "\n",
    "    cols = [f\"F{i}\" for i in range(1,29)]\n",
    "    for prediction_point in range(1914, 1942):\n",
    "        current_testing_data = testing_data[testing_data[\"d\"].str.split(\"d_\").str[1].astype(int) == prediction_point]\n",
    "        current_testing_data = current_testing_data.drop(columns=[\"id\", \"d\", \"value\"])\n",
    "        prediction = 1.028 * m_lgb.predict(current_testing_data)\n",
    "\n",
    "        # add the most recent prediction back to the testing data\n",
    "        testing_data.loc[testing_data[\"d\"].str.split(\"d_\").str[1].astype(int) == prediction_point, \"value\"] = prediction\n",
    "\n",
    "        # recreate the lags\n",
    "        for lags in range(1,11):\n",
    "            testing_data['lag' + str(lags)] = testing_data[[\"id\",\"value\"]].groupby(\"id\")[\"value\"].shift(lags)\n",
    "\n",
    "\n",
    "    te_sub = testing_data.loc[testing_data[\"d\"].str.split(\"d_\").str[1].astype(int) >= 1914, [\"id\", \"value\"]].copy()\n",
    "    te_sub[\"F\"] = [f\"F{rank}\" for rank in te_sub.groupby(\"id\")[\"id\"].cumcount()+1]\n",
    "    te_sub = te_sub.set_index([\"id\", \"F\" ]).unstack()[\"value\"][cols].reset_index()\n",
    "    te_sub.fillna(0., inplace = True)\n",
    "    te_sub.sort_values(\"id\", inplace = True)\n",
    "    te_sub.reset_index(drop=True, inplace = True)\n",
    "    te_sub.to_csv(f\"submission_{icount}.csv\",index=False)\n",
    "    if icount == 0 :\n",
    "        sub = te_sub\n",
    "        sub[cols] *= weight\n",
    "    else:\n",
    "        sub[cols] += te_sub[cols]*weight\n",
    "    print(icount, alpha, weight)\n",
    "\n",
    "sub2 = sub.copy()\n",
    "sub2[\"id\"] = sub2[\"id\"].str.replace(\"validation$\", \"evaluation\")\n",
    "sub = pd.concat([sub, sub2], axis=0, sort=False)\n",
    "sub.to_csv(\"submission.csv\",index=False)"
   ],
   "metadata": {
    "collapsed": false,
    "pycharm": {
     "name": "#%%\n"
    }
   }
  },
  {
   "cell_type": "code",
   "execution_count": 46,
   "outputs": [
    {
     "data": {
      "text/plain": "0   NaN\n1   NaN\n2   NaN\n3   NaN\n4   NaN\n5   NaN\n6   NaN\n7   NaN\n8   NaN\n9   NaN\nName: value, dtype: float64"
     },
     "execution_count": 46,
     "metadata": {},
     "output_type": "execute_result"
    }
   ],
   "source": [],
   "metadata": {
    "collapsed": false,
    "pycharm": {
     "name": "#%%\n"
    }
   }
  }
 ],
 "metadata": {
  "kernelspec": {
   "name": "trmf",
   "language": "python",
   "display_name": "Python (trmf)"
  },
  "language_info": {
   "codemirror_mode": {
    "name": "ipython",
    "version": 3
   },
   "file_extension": ".py",
   "mimetype": "text/x-python",
   "name": "python",
   "nbconvert_exporter": "python",
   "pygments_lexer": "ipython3",
   "version": "3.7.4"
  }
 },
 "nbformat": 4,
 "nbformat_minor": 1
}