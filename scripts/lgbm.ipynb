{
 "cells": [
  {
   "cell_type": "code",
   "execution_count": 1,
   "metadata": {},
   "outputs": [],
   "source": [
    "import lightgbm as lgbm\n",
    "import numpy as np\n",
    "import pandas as pd\n",
    "\n",
    "# define data types for the sales data\n",
    "numCols = [f\"d_{day}\" for day in range(1, 1914)]\n",
    "\n",
    "# Define all categorical columns\n",
    "catCols = ['id', 'item_id', 'dept_id','store_id', 'cat_id', 'state_id']\n",
    "\n",
    "# Define the correct data types for \"sales_train_validation.csv\"\n",
    "dtype = {numCol: \"float32\" for numCol in numCols}\n",
    "dtype.update({catCol: \"category\" for catCol in catCols if catCol != \"id\"})\n",
    "\n",
    "# read the sales data\n",
    "sales_data = pd.read_csv(\"/media/hhew0002/f0df6edb-45fe-4416-8076-34757a0abceb/hhew0002/Academic/Competitions/M5 Competition/data/sales_train_validation.csv\", usecols=catCols + numCols, dtype=dtype)\n",
    "sales_data = sales_data.drop(columns=[\"item_id\", \"dept_id\", \"store_id\"])"
   ]
  },
  {
   "cell_type": "code",
   "execution_count": 2,
   "metadata": {},
   "outputs": [],
   "source": [
    "# read the calendar data\n",
    "calendarDTypes = {\"event_name_1\": \"category\",\n",
    "                  \"event_name_2\": \"category\",\n",
    "                  \"event_type_1\": \"category\",\n",
    "                  \"event_type_2\": \"category\",\n",
    "                  \"weekday\": \"category\",\n",
    "                  'wm_yr_wk': 'int16',\n",
    "                  \"wday\": \"category\",\n",
    "                  \"month\": \"category\",\n",
    "                  \"year\": \"int16\",\n",
    "                  \"snap_CA\": \"category\",\n",
    "                  'snap_TX': 'category',\n",
    "                  'snap_WI': 'category' }\n",
    "calendar_data = pd.read_csv(\"/media/hhew0002/f0df6edb-45fe-4416-8076-34757a0abceb/hhew0002/Academic/Competitions/M5 Competition/data/calendar.csv\", dtype=calendarDTypes)\n",
    "\n",
    "# remove the last 28 points from the calendar data\n",
    "horizon = 28\n",
    "calendar_data = calendar_data.iloc[:-horizon, :]\n",
    "\n",
    "\n",
    "for col, colDType in calendarDTypes.items():\n",
    "    if colDType == \"category\":\n",
    "        calendar_data[col] = calendar_data[col].cat.codes.astype(\"int16\")\n",
    "        calendar_data[col] -= calendar_data[col].min()\n",
    "\n",
    "def add_weekend(row):\n",
    "    if row[\"wday\"] == 1 or row[\"wday\"] == 2:\n",
    "        return 1\n",
    "    else:\n",
    "        return 0\n",
    "\n",
    "calendar_data['weekend'] = calendar_data.apply (lambda row: add_weekend(row), axis=1)\n",
    "calendar_data = calendar_data.drop(columns=[\"date\", \"wm_yr_wk\", \"year\", \"weekday\", \"wday\"])\n"
   ]
  },
  {
   "cell_type": "code",
   "execution_count": 8,
   "outputs": [],
   "source": [
    "# read the price data\n",
    "price_data = pd.read_csv(\"/media/hhew0002/f0df6edb-45fe-4416-8076-34757a0abceb/hhew0002/Academic/Competitions/M5 Competition/data/Item-prices.txt\", header=None)\n",
    "price_data = price_data.iloc[:,:-horizon]\n",
    "\n",
    "column_names = [f\"d_{day}\" for day in range(1, 1942)]\n",
    "price_data.columns = column_names\n",
    "\n",
    "# add the item id column\n",
    "price_data[\"id\"] = sales_data[\"id\"]\n",
    "# melt the price data\n",
    "price_data_melted = pd.melt(price_data, id_vars=['id'], var_name=\"d\", value_name=\"price\")\n"
   ],
   "metadata": {
    "collapsed": false,
    "pycharm": {
     "name": "#%%\n"
    }
   }
  },
  {
   "cell_type": "code",
   "execution_count": 4,
   "outputs": [],
   "source": [
    "# embed the sales data to have a lag length of 10\n",
    "data = sales_data.iloc[0:10, :]\n",
    "data = pd.melt(data, id_vars=['id', 'cat_id', 'state_id'], var_name=\"d\", value_name=\"sales\")\n",
    "\n",
    "for lags in range(1,11):\n",
    "    data['lag' + str(lags)] = data[[\"id\",\"sales\"]].groupby(\"id\")[\"sales\"].shift(lags)"
   ],
   "metadata": {
    "collapsed": false,
    "pycharm": {
     "name": "#%%\n"
    }
   }
  },
  {
   "cell_type": "code",
   "execution_count": 6,
   "outputs": [
    {
     "name": "stdout",
     "output_type": "stream",
     "text": [
      "<class 'pandas.core.frame.DataFrame'>\n",
      "Int64Index: 19030 entries, 0 to 19029\n",
      "Data columns (total 21 columns):\n",
      " #   Column        Non-Null Count  Dtype   \n",
      "---  ------        --------------  -----   \n",
      " 0   cat_id        19030 non-null  category\n",
      " 1   state_id      19030 non-null  category\n",
      " 2   sales         19030 non-null  float32 \n",
      " 3   lag1          19030 non-null  float32 \n",
      " 4   lag2          19030 non-null  float32 \n",
      " 5   lag3          19030 non-null  float32 \n",
      " 6   lag4          19030 non-null  float32 \n",
      " 7   lag5          19030 non-null  float32 \n",
      " 8   lag6          19030 non-null  float32 \n",
      " 9   lag7          19030 non-null  float32 \n",
      " 10  lag8          19030 non-null  float32 \n",
      " 11  lag9          19030 non-null  float32 \n",
      " 12  lag10         19030 non-null  float32 \n",
      " 13  month         19030 non-null  int16   \n",
      " 14  event_name_1  19030 non-null  int16   \n",
      " 15  event_type_1  19030 non-null  int16   \n",
      " 16  event_name_2  19030 non-null  int16   \n",
      " 17  event_type_2  19030 non-null  int16   \n",
      " 18  weekend       19030 non-null  int64   \n",
      " 19  price         19030 non-null  float64 \n",
      " 20  snap          19030 non-null  int64   \n",
      "dtypes: category(2), float32(11), float64(1), int16(5), int64(2)\n",
      "memory usage: 1.6 MB\n"
     ]
    }
   ],
   "source": [
    "# merge the calendar data into the sales data\n",
    "full_training_data = data.merge(calendar_data, on=\"d\", copy=False)\n",
    "full_training_data = full_training_data.dropna()\n",
    "\n",
    "# merge the price data into the sales data\n",
    "full_training_data = full_training_data.merge(price_data_melted, on=[\"id\",\"d\"], copy=False)\n",
    "\n",
    "# create only one column for the snap features\n",
    "def add_snap(row):\n",
    "    if row[\"state_id\"] == \"CA\":\n",
    "        return row[\"snap_CA\"]\n",
    "    elif row[\"state_id\"] == \"TX\":\n",
    "        return row[\"snap_TX\"]\n",
    "    else:\n",
    "        return row[\"snap_WI\"]\n",
    "\n",
    "full_training_data['snap'] = full_training_data.apply (lambda row: add_snap(row), axis=1)\n",
    "full_training_data = full_training_data.drop(columns=[\"id\", \"d\", \"snap_CA\", \"snap_WI\", \"snap_TX\"])\n",
    "full_training_data.info()"
   ],
   "metadata": {
    "collapsed": false,
    "pycharm": {
     "name": "#%%\n"
    }
   }
  },
  {
   "cell_type": "code",
   "execution_count": 22,
   "outputs": [
    {
     "ename": "ValueError",
     "evalue": "Cannot take a larger sample than population when 'replace=False'",
     "output_type": "error",
     "traceback": [
      "\u001B[0;31m---------------------------------------------------------------------------\u001B[0m",
      "\u001B[0;31mValueError\u001B[0m                                Traceback (most recent call last)",
      "\u001B[0;32m<ipython-input-22-552dc0ae05a9>\u001B[0m in \u001B[0;36m<module>\u001B[0;34m\u001B[0m\n\u001B[1;32m     10\u001B[0m \u001B[0;34m\u001B[0m\u001B[0m\n\u001B[1;32m     11\u001B[0m \u001B[0;31m# validation data\u001B[0m\u001B[0;34m\u001B[0m\u001B[0;34m\u001B[0m\u001B[0;34m\u001B[0m\u001B[0m\n\u001B[0;32m---> 12\u001B[0;31m \u001B[0mvalidation_indices\u001B[0m \u001B[0;34m=\u001B[0m \u001B[0mnp\u001B[0m\u001B[0;34m.\u001B[0m\u001B[0mrandom\u001B[0m\u001B[0;34m.\u001B[0m\u001B[0mchoice\u001B[0m\u001B[0;34m(\u001B[0m\u001B[0mfull_training_data_x\u001B[0m\u001B[0;34m.\u001B[0m\u001B[0mindex\u001B[0m\u001B[0;34m.\u001B[0m\u001B[0mvalues\u001B[0m\u001B[0;34m,\u001B[0m \u001B[0;36m2_000_000\u001B[0m\u001B[0;34m,\u001B[0m \u001B[0mreplace\u001B[0m \u001B[0;34m=\u001B[0m \u001B[0;32mFalse\u001B[0m\u001B[0;34m)\u001B[0m\u001B[0;34m\u001B[0m\u001B[0;34m\u001B[0m\u001B[0m\n\u001B[0m\u001B[1;32m     13\u001B[0m \u001B[0mtraining_indices\u001B[0m \u001B[0;34m=\u001B[0m \u001B[0mnp\u001B[0m\u001B[0;34m.\u001B[0m\u001B[0msetdiff1d\u001B[0m\u001B[0;34m(\u001B[0m\u001B[0mfull_training_data_x\u001B[0m\u001B[0;34m.\u001B[0m\u001B[0mindex\u001B[0m\u001B[0;34m.\u001B[0m\u001B[0mvalues\u001B[0m\u001B[0;34m,\u001B[0m \u001B[0mvalidation_indices\u001B[0m\u001B[0;34m)\u001B[0m\u001B[0;34m\u001B[0m\u001B[0;34m\u001B[0m\u001B[0m\n\u001B[1;32m     14\u001B[0m \u001B[0;34m\u001B[0m\u001B[0m\n",
      "\u001B[0;32mmtrand.pyx\u001B[0m in \u001B[0;36mmtrand.RandomState.choice\u001B[0;34m()\u001B[0m\n",
      "\u001B[0;31mValueError\u001B[0m: Cannot take a larger sample than population when 'replace=False'"
     ]
    }
   ],
   "source": [
    "# create the training x and y data\n",
    "full_training_data_x = full_training_data.drop(columns=[\"sales\"])\n",
    "full_training_data_y = full_training_data.sales\n",
    "\n",
    "# seperate the training and validation data\n",
    "np.random.seed(777)\n",
    "\n",
    "# Define categorical features\n",
    "cat_features = ['cat_id', 'state_id', 'weekend', 'month', 'event_name_1', 'event_name_2', 'event_type_1', 'event_type_2', 'snap']\n",
    "\n",
    "# validation data\n",
    "validation_indices = np.random.choice(full_training_data_x.index.values, 2_000_000, replace = False)\n",
    "training_indices = np.setdiff1d(full_training_data_x.index.values, validation_indices)\n",
    "\n",
    "training_data = lgbm.Dataset(full_training_data_x.loc[training_indices], label = full_training_data_y.loc[training_indices],\n",
    "                        categorical_feature = cat_features, free_raw_data = False)\n",
    "valid_data = lgbm.Dataset(full_training_data_x.loc[validation_indices], label = full_training_data_y.loc[validation_indices],\n",
    "                        categorical_feature = cat_features, free_raw_data = False)"
   ],
   "metadata": {
    "collapsed": false,
    "pycharm": {
     "name": "#%%\n"
    }
   }
  },
  {
   "cell_type": "code",
   "execution_count": 10,
   "outputs": [
    {
     "name": "stderr",
     "output_type": "stream",
     "text": [
      "/home/hhew0002/anaconda3/envs/trmf/lib/python3.7/site-packages/lightgbm/engine.py:148: UserWarning: Found `num_iterations` in params. Will use it instead of argument\n",
      "  warnings.warn(\"Found `{}` in params. Will use it instead of argument\".format(alias))\n",
      "/home/hhew0002/anaconda3/envs/trmf/lib/python3.7/site-packages/lightgbm/basic.py:1291: UserWarning: Using categorical_feature in Dataset.\n",
      "  warnings.warn('Using categorical_feature in Dataset.')\n"
     ]
    },
    {
     "name": "stdout",
     "output_type": "stream",
     "text": [
      "[20]\tvalid_0's rmse: 2.11949\n",
      "[40]\tvalid_0's rmse: 2.14689\n",
      "[60]\tvalid_0's rmse: 2.22397\n",
      "[80]\tvalid_0's rmse: 2.23508\n",
      "[100]\tvalid_0's rmse: 2.23461\n",
      "[120]\tvalid_0's rmse: 2.22925\n",
      "[140]\tvalid_0's rmse: 2.26143\n",
      "[160]\tvalid_0's rmse: 2.27885\n",
      "[180]\tvalid_0's rmse: 2.27992\n",
      "[200]\tvalid_0's rmse: 2.29394\n",
      "[220]\tvalid_0's rmse: 2.28279\n",
      "[240]\tvalid_0's rmse: 2.27733\n",
      "[260]\tvalid_0's rmse: 2.29683\n",
      "[280]\tvalid_0's rmse: 2.28807\n",
      "[300]\tvalid_0's rmse: 2.28637\n",
      "[320]\tvalid_0's rmse: 2.28742\n",
      "[340]\tvalid_0's rmse: 2.30995\n",
      "[360]\tvalid_0's rmse: 2.30288\n",
      "[380]\tvalid_0's rmse: 2.31598\n",
      "[400]\tvalid_0's rmse: 2.32085\n",
      "[420]\tvalid_0's rmse: 2.31381\n",
      "[440]\tvalid_0's rmse: 2.30247\n",
      "[460]\tvalid_0's rmse: 2.29622\n",
      "[480]\tvalid_0's rmse: 2.30084\n",
      "[500]\tvalid_0's rmse: 2.31781\n",
      "[520]\tvalid_0's rmse: 2.31985\n",
      "[540]\tvalid_0's rmse: 2.32113\n",
      "[560]\tvalid_0's rmse: 2.30873\n",
      "[580]\tvalid_0's rmse: 2.30688\n",
      "[600]\tvalid_0's rmse: 2.29831\n",
      "[620]\tvalid_0's rmse: 2.29615\n",
      "[640]\tvalid_0's rmse: 2.30124\n",
      "[660]\tvalid_0's rmse: 2.30639\n",
      "[680]\tvalid_0's rmse: 2.29728\n",
      "[700]\tvalid_0's rmse: 2.2942\n",
      "[720]\tvalid_0's rmse: 2.29715\n",
      "[740]\tvalid_0's rmse: 2.30121\n",
      "[760]\tvalid_0's rmse: 2.30273\n",
      "[780]\tvalid_0's rmse: 2.30109\n",
      "[800]\tvalid_0's rmse: 2.28657\n",
      "[820]\tvalid_0's rmse: 2.28568\n",
      "[840]\tvalid_0's rmse: 2.27823\n",
      "[860]\tvalid_0's rmse: 2.28318\n",
      "[880]\tvalid_0's rmse: 2.29008\n",
      "[900]\tvalid_0's rmse: 2.2948\n",
      "[920]\tvalid_0's rmse: 2.30327\n",
      "[940]\tvalid_0's rmse: 2.29943\n",
      "[960]\tvalid_0's rmse: 2.29159\n",
      "[980]\tvalid_0's rmse: 2.28884\n",
      "[1000]\tvalid_0's rmse: 2.30117\n",
      "[1020]\tvalid_0's rmse: 2.30496\n",
      "[1040]\tvalid_0's rmse: 2.30683\n",
      "[1060]\tvalid_0's rmse: 2.30153\n",
      "[1080]\tvalid_0's rmse: 2.29252\n",
      "[1100]\tvalid_0's rmse: 2.29521\n",
      "[1120]\tvalid_0's rmse: 2.29757\n",
      "[1140]\tvalid_0's rmse: 2.30407\n",
      "[1160]\tvalid_0's rmse: 2.29944\n",
      "[1180]\tvalid_0's rmse: 2.29716\n",
      "[1200]\tvalid_0's rmse: 2.29989\n"
     ]
    },
    {
     "data": {
      "text/plain": "<lightgbm.basic.Booster at 0x7f87617913d0>"
     },
     "execution_count": 10,
     "metadata": {},
     "output_type": "execute_result"
    }
   ],
   "source": [
    "#build the lightgbm model\n",
    "params = {\n",
    "          \"objective\" : \"poisson\",\n",
    "          \"metric\" :\"rmse\",\n",
    "          \"force_row_wise\" : True,\n",
    "          \"learning_rate\" : 0.075,\n",
    "          \"sub_row\" : 0.75,\n",
    "          \"bagging_freq\" : 1,\n",
    "          \"lambda_l2\" : 0.1,\n",
    "          \"metric\": [\"rmse\"],\n",
    "          'verbosity': 1,\n",
    "          'num_iterations' : 1200,\n",
    "          'num_leaves': 128,\n",
    "          \"min_data_in_leaf\": 100,\n",
    "         }\n",
    "\n",
    "# Train LightGBM model\n",
    "m_lgb = lgbm.train(params, training_data, valid_sets = [valid_data], verbose_eval = 20)\n",
    "\n",
    "# save the model if needed\n",
    "m_lgb.save_model(\"model.lgb\")"
   ],
   "metadata": {
    "collapsed": false,
    "pycharm": {
     "name": "#%%\n"
    }
   }
  },
  {
   "cell_type": "code",
   "execution_count": 13,
   "outputs": [],
   "source": [
    "# create the initial testing data\n",
    "lag_size = 10\n",
    "testing_data = sales_data.iloc[0:10, -lag_size:]\n",
    "testing_data['cat_id'] = sales_data.cat_id.iloc[0:10]\n",
    "testing_data['state_id'] = sales_data.state_id.iloc[0:10]\n",
    "testing_data['id'] = sales_data.id.iloc[0:10]\n",
    "\n",
    "for day in range(1914, 1942):\n",
    "    testing_data[f\"d_{day}\"] = np.nan\n",
    "\n",
    "testing_data = pd.melt(testing_data, id_vars=['id', 'cat_id', 'state_id'], var_name=\"d\", value_name=\"sales\")\n",
    "\n",
    "# embed the sales data to have a lag length of 10\n",
    "for lags in range(1,11):\n",
    "    testing_data['lag' + str(lags)] = testing_data[[\"id\",\"sales\"]].groupby(\"id\")[\"sales\"].shift(lags)\n",
    "\n",
    "# merge the calendar data into the sales data\n",
    "testing_data = testing_data.merge(calendar_data, on=\"d\", copy=False)\n",
    "\n",
    "# merge the price data into the sales data\n",
    "testing_data = testing_data.merge(price_data_melted, on=[\"id\", \"d\"], copy=False)\n",
    "\n",
    "testing_data['snap'] = testing_data.apply (lambda row: add_snap(row), axis=1)\n",
    "testing_data = testing_data.drop(columns=[\"snap_CA\", \"snap_WI\", \"snap_TX\"])"
   ],
   "metadata": {
    "collapsed": false,
    "pycharm": {
     "name": "#%%\n"
    }
   }
  },
  {
   "cell_type": "code",
   "execution_count": 21,
   "outputs": [],
   "source": [
    "# perform the recursive forecasting\n",
    "\n",
    "cols = [f\"F{i}\" for i in range(1,29)]\n",
    "for prediction_point in range(1914, 1942):\n",
    "    current_testing_data = testing_data[testing_data[\"d\"].str.split(\"d_\").str[1].astype(int) == prediction_point]\n",
    "    current_testing_data = current_testing_data.drop(columns=[\"id\", \"d\", \"sales\"])\n",
    "    prediction = 1.028 * m_lgb.predict(current_testing_data)\n",
    "\n",
    "    # add the most recent prediction back to the testing data\n",
    "    testing_data.loc[testing_data[\"d\"].str.split(\"d_\").str[1].astype(int) == prediction_point, \"sales\"] = prediction\n",
    "\n",
    "    # recreate the lags\n",
    "    for lags in range(1,11):\n",
    "        testing_data['lag' + str(lags)] = testing_data[[\"id\",\"sales\"]].groupby(\"id\")[\"sales\"].shift(lags)\n",
    "\n",
    "\n",
    "sub = testing_data.loc[testing_data[\"d\"].str.split(\"d_\").str[1].astype(int) >= 1914, [\"id\", \"sales\"]].copy()\n",
    "sub[\"F\"] = [f\"F{rank}\" for rank in sub.groupby(\"id\")[\"id\"].cumcount()+1]\n",
    "sub = sub.set_index([\"id\", \"F\" ]).unstack()[\"sales\"][cols].reset_index()\n",
    "sub.fillna(0., inplace = True)\n",
    "sub.sort_values(\"id\", inplace = True)\n",
    "sub.reset_index(drop=True, inplace = True)\n",
    "sub.to_csv(\"submission.csv\",index=False)\n",
    "# make the final submission as a weighted average of the three results using three different alphas\n",
    "\n",
    "\n",
    "sub2 = sub.copy()\n",
    "sub2[\"id\"] = sub2[\"id\"].str.replace(\"validation$\", \"evaluation\")\n",
    "sub = pd.concat([sub, sub2], axis=0, sort=False)\n",
    "sub.to_csv(\"submission.csv\",index=False)"
   ],
   "metadata": {
    "collapsed": false,
    "pycharm": {
     "name": "#%%\n"
    }
   }
  },
  {
   "cell_type": "code",
   "execution_count": 46,
   "outputs": [
    {
     "data": {
      "text/plain": "0   NaN\n1   NaN\n2   NaN\n3   NaN\n4   NaN\n5   NaN\n6   NaN\n7   NaN\n8   NaN\n9   NaN\nName: value, dtype: float64"
     },
     "execution_count": 46,
     "metadata": {},
     "output_type": "execute_result"
    }
   ],
   "source": [],
   "metadata": {
    "collapsed": false,
    "pycharm": {
     "name": "#%%\n"
    }
   }
  }
 ],
 "metadata": {
  "kernelspec": {
   "name": "trmf",
   "language": "python",
   "display_name": "Python (trmf)"
  },
  "language_info": {
   "codemirror_mode": {
    "name": "ipython",
    "version": 3
   },
   "file_extension": ".py",
   "mimetype": "text/x-python",
   "name": "python",
   "nbconvert_exporter": "python",
   "pygments_lexer": "ipython3",
   "version": "3.7.4"
  }
 },
 "nbformat": 4,
 "nbformat_minor": 1
}